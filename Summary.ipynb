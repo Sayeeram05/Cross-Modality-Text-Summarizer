{
 "cells": [
  {
   "cell_type": "code",
   "execution_count": null,
   "id": "17ba0206",
   "metadata": {},
   "outputs": [],
   "source": [
    "from transformers import AutoTokenizer, AutoModelForSeq2SeqLM\n",
    "\n",
    "\n",
    "def summarize(blog_post):\n",
    "    \n",
    "    save_path = \"./saved_models/Model3\"\n",
    "\n",
    "    # Load the trained model and tokenizer\n",
    "    tokenizer = AutoTokenizer.from_pretrained(save_path)\n",
    "    model = AutoModelForSeq2SeqLM.from_pretrained(save_path)\n",
    "    \n",
    "    # Tokenize the input blog post\n",
    "    inputs = tokenizer(blog_post, max_length=524, truncation=True, return_tensors=\"pt\")\n",
    "\n",
    "    # Generate the summary\n",
    "    # summary_ids = model.generate(inputs[\"input_ids\"], max_length=300, min_length=50, length_penalty=2.0, num_beams=4, early_stopping=True)\n",
    "    summary_ids = model.generate(inputs[\"input_ids\"], max_length=212, min_length=25, length_penalty=0.0, num_beams=4, early_stopping=False)\n",
    "\n",
    "    # Decode the summary\n",
    "    summary = tokenizer.decode(summary_ids[0],skip_special_tokens=True)\n",
    "    return summary\n"
   ]
  },
  {
   "cell_type": "code",
   "execution_count": null,
   "id": "ec95225c",
   "metadata": {},
   "outputs": [],
   "source": []
  }
 ],
 "metadata": {
  "kernelspec": {
   "display_name": "Main",
   "language": "python",
   "name": "python3"
  },
  "language_info": {
   "codemirror_mode": {
    "name": "ipython",
    "version": 3
   },
   "file_extension": ".py",
   "mimetype": "text/x-python",
   "name": "python",
   "nbconvert_exporter": "python",
   "pygments_lexer": "ipython3",
   "version": "3.12.4"
  }
 },
 "nbformat": 4,
 "nbformat_minor": 5
}
