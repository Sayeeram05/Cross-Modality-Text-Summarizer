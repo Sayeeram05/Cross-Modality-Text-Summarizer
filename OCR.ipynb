{
 "cells": [
  {
   "cell_type": "code",
   "execution_count": 8,
   "id": "02a902de",
   "metadata": {
    "execution": {
     "iopub.execute_input": "2025-04-07T18:22:18.421340Z",
     "iopub.status.busy": "2025-04-07T18:22:18.421340Z",
     "iopub.status.idle": "2025-04-07T18:22:19.096727Z",
     "shell.execute_reply": "2025-04-07T18:22:19.096727Z"
    }
   },
   "outputs": [],
   "source": [
    "import cv2\n",
    "from matplotlib import pyplot as plt"
   ]
  },
  {
   "cell_type": "code",
   "execution_count": 9,
   "id": "b6206319",
   "metadata": {
    "execution": {
     "iopub.execute_input": "2025-04-07T18:22:19.104690Z",
     "iopub.status.busy": "2025-04-07T18:22:19.104690Z",
     "iopub.status.idle": "2025-04-07T18:22:19.106785Z",
     "shell.execute_reply": "2025-04-07T18:22:19.106785Z"
    }
   },
   "outputs": [],
   "source": [
    "def OpenImage(path):\n",
    "     return cv2.imread(path)"
   ]
  },
  {
   "cell_type": "code",
   "execution_count": 10,
   "id": "9608ef9a",
   "metadata": {
    "execution": {
     "iopub.execute_input": "2025-04-07T18:22:19.117681Z",
     "iopub.status.busy": "2025-04-07T18:22:19.117681Z",
     "iopub.status.idle": "2025-04-07T18:22:19.120567Z",
     "shell.execute_reply": "2025-04-07T18:22:19.120037Z"
    }
   },
   "outputs": [],
   "source": [
    "def OCRPreprocessing(ImagePath):\n",
    "    \n",
    "    img = OpenImage(ImagePath)\n",
    "\n",
    "    # Step 1: Convert to Grayscale\n",
    "    gray = cv2.cvtColor(img, cv2.COLOR_BGR2GRAY)\n",
    "\n",
    "    # Step 2: Invert the grayscale image (text becomes black if it was white)\n",
    "    inverted = cv2.bitwise_not(gray)\n",
    "\n",
    "    # Step 3: Apply simple binary threshold\n",
    "    _, binary = cv2.threshold(inverted, 0, 255, cv2.THRESH_BINARY + cv2.THRESH_OTSU)\n",
    "\n",
    "    cv2.imwrite(\"temp/binary.jpg\", binary)\n",
    "    "
   ]
  },
  {
   "cell_type": "code",
   "execution_count": 11,
   "id": "e080d5e9",
   "metadata": {
    "execution": {
     "iopub.execute_input": "2025-04-07T18:22:19.155805Z",
     "iopub.status.busy": "2025-04-07T18:22:19.155805Z",
     "iopub.status.idle": "2025-04-07T18:22:19.600690Z",
     "shell.execute_reply": "2025-04-07T18:22:19.600690Z"
    }
   },
   "outputs": [],
   "source": [
    "import pytesseract\n",
    "from PIL import Image"
   ]
  },
  {
   "cell_type": "code",
   "execution_count": 12,
   "id": "ddd5803b",
   "metadata": {
    "execution": {
     "iopub.execute_input": "2025-04-07T18:22:19.600690Z",
     "iopub.status.busy": "2025-04-07T18:22:19.600690Z",
     "iopub.status.idle": "2025-04-07T18:22:19.605633Z",
     "shell.execute_reply": "2025-04-07T18:22:19.605633Z"
    }
   },
   "outputs": [],
   "source": [
    "def ExtractText():\n",
    "    img = Image.open(\"temp/binary.jpg\")\n",
    "    ocr_result = pytesseract.image_to_string(img)\n",
    "    return ocr_result\n"
   ]
  },
  {
   "cell_type": "code",
   "execution_count": 13,
   "id": "4fab870e",
   "metadata": {
    "execution": {
     "iopub.execute_input": "2025-04-07T18:22:19.607805Z",
     "iopub.status.busy": "2025-04-07T18:22:19.607805Z",
     "iopub.status.idle": "2025-04-07T18:22:19.609681Z",
     "shell.execute_reply": "2025-04-07T18:22:19.609681Z"
    }
   },
   "outputs": [
    {
     "name": "stdout",
     "output_type": "stream",
     "text": [
      "SRM Institute of Science and Technology (SRMIST), commonly known as SRM University, is one of India's\n",
      "\n",
      "top private universities, located in Chennai, Tamil Nadu. Established in 1985 by Dr. T.R. Paarivendhar, SRM\n",
      "University has grown into a leading educational institution recognized for academic excellence, research, and\n",
      "innovation.\n",
      "\n",
      "The main campus, often referred to as Kattankulathur Campus, is spread over 250 acres and is home to\n",
      "more than 50,000 students and 3,000 faculty members. SRM University offers a wide range of\n",
      "undergraduate, postgraduate, and doctoral programs in engineering, management, medicine, law, science,\n",
      "\n",
      "and the humanities.\n",
      "\n",
      "SRM is well-known for its modern infrastructure, with state-of-the-art laboratories, libraries, hostels, and\n",
      "sports facilities. The university has a strong focus on international collaboration and has partnerships with\n",
      "institutions like MIT, Camegie Mellon, and UC Berkeley, offering students exchange programs and global\n",
      "\n",
      "research opportunities.\n",
      "\n",
      "The annual SRM Joint Engineering Entrance Exam (SRMUEEE) is a major gateway for engineering aspirants.\n",
      "Apart from academics, SRM hosts cultural and technical festivals such as Milan and Aaruush, which attract\n",
      "\n",
      "participants from all over India.\n",
      "\n",
      "SRM University has consistently ranked among India's top private universities and is known for its placement\n",
      "\n",
      "record, with many students securing jobs in top multinational companies.\n",
      "\n"
     ]
    }
   ],
   "source": [
    "OCRPreprocessing(\"Images\\\\SRM UNIVERSITY.png\")\n",
    "print(ExtractText())"
   ]
  },
  {
   "cell_type": "code",
   "execution_count": null,
   "id": "4763e0a9",
   "metadata": {},
   "outputs": [],
   "source": []
  }
 ],
 "metadata": {
  "kernelspec": {
   "display_name": "Main",
   "language": "python",
   "name": "python3"
  },
  "language_info": {
   "codemirror_mode": {
    "name": "ipython",
    "version": 3
   },
   "file_extension": ".py",
   "mimetype": "text/x-python",
   "name": "python",
   "nbconvert_exporter": "python",
   "pygments_lexer": "ipython3",
   "version": "3.12.4"
  }
 },
 "nbformat": 4,
 "nbformat_minor": 5
}
