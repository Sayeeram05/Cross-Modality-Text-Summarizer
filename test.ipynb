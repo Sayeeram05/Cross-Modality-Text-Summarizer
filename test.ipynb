{
 "cells": [
  {
   "cell_type": "code",
   "execution_count": 1,
   "metadata": {},
   "outputs": [],
   "source": [
    "import evaluate\n",
    "\n",
    "rouge = evaluate.load(\"rouge\")"
   ]
  },
  {
   "cell_type": "code",
   "execution_count": 2,
   "metadata": {},
   "outputs": [],
   "source": [
    "from datasets import load_dataset\n",
    "\n",
    "df = load_dataset(\"abisee/cnn_dailymail\", \"3.0.0\")"
   ]
  },
  {
   "cell_type": "code",
   "execution_count": 3,
   "metadata": {},
   "outputs": [
    {
     "data": {
      "text/plain": [
       "DatasetDict({\n",
       "    train: Dataset({\n",
       "        features: ['article', 'highlights', 'id'],\n",
       "        num_rows: 287113\n",
       "    })\n",
       "    validation: Dataset({\n",
       "        features: ['article', 'highlights', 'id'],\n",
       "        num_rows: 13368\n",
       "    })\n",
       "    test: Dataset({\n",
       "        features: ['article', 'highlights', 'id'],\n",
       "        num_rows: 11490\n",
       "    })\n",
       "})"
      ]
     },
     "execution_count": 3,
     "metadata": {},
     "output_type": "execute_result"
    }
   ],
   "source": [
    "df"
   ]
  },
  {
   "cell_type": "code",
   "execution_count": 4,
   "metadata": {},
   "outputs": [],
   "source": [
    "import re\n",
    "\n",
    "def clean_text(example):\n",
    "    text = example['highlights']\n",
    "    text = re.sub(r\"\\s+\", \" \", text).strip()  # Replace multiple spaces/newlines with a single space\n",
    "    text = re.sub(r\"[^\\w\\s.,'-]\", \"\", text)  # Remove unwanted characters\n",
    "    text = re.sub(r\"\\s+\\.\", \".\", text)  # Remove space before a period\n",
    "    text = re.sub(r\"\\.(\\S)\", r\". \\1\", text)  # Ensure space after a period if missing\n",
    "    example['highlights'] = text\n",
    "    return example\n",
    "\n",
    "df = df.map(clean_text)"
   ]
  },
  {
   "cell_type": "code",
   "execution_count": 34,
   "metadata": {},
   "outputs": [],
   "source": [
    "from transformers import AutoTokenizer, AutoModelForSeq2SeqLM\n",
    "\n",
    "save_path = \"./saved_models/Model4\"\n",
    "\n",
    "# Load the trained model and tokenizer\n",
    "tokenizer = AutoTokenizer.from_pretrained(save_path)\n",
    "model = AutoModelForSeq2SeqLM.from_pretrained(save_path)\n",
    "\n",
    "# Function to summarize a blog post\n",
    "def summarize(blog_post):\n",
    "    # Tokenize the input blog post\n",
    "    inputs = tokenizer(blog_post, max_length=512, truncation=True, return_tensors=\"pt\")\n",
    "\n",
    "    # Improved generation settings\n",
    "    summary_ids = model.generate(\n",
    "        inputs[\"input_ids\"],\n",
    "        max_length=180,           # Slightly shorter, encourages concise summaries\n",
    "        min_length=40,            # Avoids too-short output\n",
    "        length_penalty=1.2,       # Slightly encourages longer sentences, but not too much\n",
    "        num_beams=6,              # Wider search for better summaries\n",
    "        no_repeat_ngram_size=3,   # Avoids repetition in summaries\n",
    "        early_stopping=True\n",
    "    )\n",
    "\n",
    "    # Decode the summary\n",
    "    summary = tokenizer.decode(summary_ids[0], skip_special_tokens=True)\n",
    "\n",
    "    # Optional: Basic post-processing to clean text\n",
    "    summary = summary.strip().replace(\" .\", \".\").replace(\" ,\", \",\")\n",
    "    \n",
    "    return summary\n"
   ]
  },
  {
   "cell_type": "code",
   "execution_count": 37,
   "metadata": {},
   "outputs": [
    {
     "data": {
      "text/plain": [
       "'Zully Broussard decided to give a kidney to a stranger. A new computer program helped her donation spur transplants for six kidney patients.'"
      ]
     },
     "execution_count": 37,
     "metadata": {},
     "output_type": "execute_result"
    }
   ],
   "source": [
    "df[\"validation\"][0][\"highlights\"]"
   ]
  },
  {
   "cell_type": "code",
   "execution_count": 38,
   "metadata": {},
   "outputs": [
    {
     "data": {
      "text/plain": [
       "'Zully Broussard gave one of her kidneys to a stranger. It resulted in six patients receiving transplants. The super swap works on a simple swapping principle but takes it to a much higher level.'"
      ]
     },
     "execution_count": 38,
     "metadata": {},
     "output_type": "execute_result"
    }
   ],
   "source": [
    "summarize(df[\"validation\"][0][\"article\"])"
   ]
  },
  {
   "cell_type": "code",
   "execution_count": 42,
   "metadata": {},
   "outputs": [],
   "source": [
    "Summary = df[\"validation\"][\"highlights\"]"
   ]
  },
  {
   "cell_type": "code",
   "execution_count": 43,
   "metadata": {},
   "outputs": [
    {
     "data": {
      "text/plain": [
       "['Zully Broussard decided to give a kidney to a stranger. A new computer program helped her donation spur transplants for six kidney patients.',\n",
       " 'The 20th MLS season begins this weekend. League has changed dramatically since its inception in 1996. Some question whether rules regarding salary caps and transfers need to change.',\n",
       " 'Bafetimbi Gomis collapses within 10 minutes of kickoff at Tottenham. But he reportedly left the pitch conscious and wearing an oxygen mask. Gomis later said that he was feeling well The incident came three years after Fabrice Muamba collapsed at White Hart Lane.',\n",
       " 'Rory McIlroy throws club into water at WGC Cadillac Championship. Northern Irishman frustrated after pulling shot into water hazard.',\n",
       " \"Cayman Naib, 13, hasn't been heard from since Wednesday. Police, family, volunteers search for eighth-grader.\"]"
      ]
     },
     "execution_count": 43,
     "metadata": {},
     "output_type": "execute_result"
    }
   ],
   "source": [
    "Summary[:5]"
   ]
  },
  {
   "cell_type": "code",
   "execution_count": 39,
   "metadata": {},
   "outputs": [],
   "source": [
    "GeneratedSummary = []"
   ]
  },
  {
   "cell_type": "code",
   "execution_count": 40,
   "metadata": {},
   "outputs": [],
   "source": [
    "for i in df[\"validation\"][\"article\"][:10]:\n",
    "    GeneratedSummary.append(summarize(i))"
   ]
  },
  {
   "cell_type": "code",
   "execution_count": null,
   "metadata": {},
   "outputs": [
    {
     "data": {
      "text/plain": [
       "10"
      ]
     },
     "metadata": {},
     "output_type": "display_data"
    }
   ],
   "source": [
    "len(GeneratedSummary)"
   ]
  },
  {
   "cell_type": "code",
   "execution_count": null,
   "metadata": {},
   "outputs": [
    {
     "data": {
      "text/plain": [
       "['Zully Broussard gave one of her kidneys to a stranger. It resulted in six patients receiving transplants.',\n",
       " 'The first ever Major League Soccer match was played in April 1996 in San Jose, California. Attendances are higher than ever before while the number of teams involved has doubled from 10 in the 1996 campaign to 20 in 2015.',\n",
       " \"French striker Bafetimbi Gomis says he is now feeling well after collapsing during Swansea's 3-2 loss at Tottenham. Gomeis has a history of fainting spells in France, which prompted the president of his former club to tell French television in 2009 We can't not be worried, it scares you each time\",\n",
       " 'Rory McIlroy pulls his second shot on the eighth hole of the WGC Cadillac Championship into a lake. The four-time major winner launched the 3-iron used to play the offending shot into the water as well. The Northern Irishman composed himself to finish with a second round of 70.',\n",
       " 'Cayman Naib, 13, has been missing since Wednesday. He was last seen wearing a gray down winter jacket, black ski pants and hiking boots.']"
      ]
     },
     "metadata": {},
     "output_type": "display_data"
    }
   ],
   "source": [
    "GeneratedSummary[:5]"
   ]
  },
  {
   "cell_type": "code",
   "execution_count": 44,
   "metadata": {},
   "outputs": [
    {
     "name": "stdout",
     "output_type": "stream",
     "text": [
      "rouge1: 0.2866\n",
      "rouge2: 0.0896\n",
      "rougeL: 0.1857\n",
      "rougeLsum: 0.1855\n"
     ]
    }
   ],
   "source": [
    "results = rouge.compute(predictions=GeneratedSummary, references=Summary[:10])\n",
    "\n",
    "for key, value in results.items():\n",
    "    print(f\"{key}: {value:.4f}\")"
   ]
  },
  {
   "cell_type": "code",
   "execution_count": null,
   "metadata": {},
   "outputs": [],
   "source": [
    "rouge1: 0.3362\n",
    "rouge2: 0.1368\n",
    "rougeL: 0.2381\n",
    "rougeLsum: 0.2378"
   ]
  },
  {
   "cell_type": "code",
   "execution_count": null,
   "metadata": {},
   "outputs": [],
   "source": [
    "rouge1: 0.3620\n",
    "rouge2: 0.1679\n",
    "rougeL: 0.2709\n",
    "rougeLsum: 0.2717"
   ]
  }
 ],
 "metadata": {
  "kernelspec": {
   "display_name": "Main",
   "language": "python",
   "name": "python3"
  },
  "language_info": {
   "codemirror_mode": {
    "name": "ipython",
    "version": 3
   },
   "file_extension": ".py",
   "mimetype": "text/x-python",
   "name": "python",
   "nbconvert_exporter": "python",
   "pygments_lexer": "ipython3",
   "version": "3.12.4"
  }
 },
 "nbformat": 4,
 "nbformat_minor": 2
}
